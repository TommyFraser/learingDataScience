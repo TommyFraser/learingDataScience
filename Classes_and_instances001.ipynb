{
 "cells": [
  {
   "cell_type": "markdown",
   "metadata": {},
   "source": [
    "# Classes and Instances\n",
    "#### This tute is inspired by Corey Schafer\n",
    "\n",
    "https://www.youtube.com/watch?v=ZDa-Z5JzLYM\n",
    "\n",
    "The reason we create classes is so we can avoid writing redundant code. We can create our own tool that can perform a set of tasks when called upon. This saves us time. It's like recording actions in photoshop. \n",
    "\n",
    "We can group methods / functions together and call on it later using less code. Eg the sort() method is a tool that someone else created. We don't need to know what it's made of. We just need to know how to use it. "
   ]
  },
  {
   "cell_type": "markdown",
   "metadata": {},
   "source": [
    "#### This is the long way of creating instance variables for each employee. In english. This is the long way of importing each employee into the company."
   ]
  },
  {
   "cell_type": "code",
   "execution_count": 28,
   "metadata": {},
   "outputs": [
    {
     "name": "stdout",
     "output_type": "stream",
     "text": [
      "Corey.Schafer@company.com.au\n",
      "Test.User@company.com.au\n"
     ]
    }
   ],
   "source": [
    "emp_1.first = 'Corey'\n",
    "emp_1.last = 'schafer'\n",
    "emp_1.email = 'Corey.Schafer@company.com.au'\n",
    "emp_1.pay = 50000\n",
    "\n",
    "emp_2.first = 'Test'\n",
    "emp_2.last = 'User'\n",
    "emp_2.email = 'Test.User@company.com.au'\n",
    "emp_2.pay = 60000\n",
    "\n",
    "# so now each of these instances have attributes that are unique to the employee\n",
    "\n",
    "print(emp_1.email)\n",
    "print(emp_2.email)\n"
   ]
  },
  {
   "cell_type": "markdown",
   "metadata": {},
   "source": [
    "This is a classier way of doing it. "
   ]
  },
  {
   "cell_type": "code",
   "execution_count": null,
   "metadata": {},
   "outputs": [],
   "source": [
    "class Employee:\n",
    "   \n",
    "    #constructor or initialisation of a method inside a class. When we do this \n",
    "    # inside of class they receive the instance \"self\" as an argument automatically.\n",
    "    # You can call it whatever you like however it's best to stick to conventions.\n",
    "    # After self you can specify however many arguements you want to accept.\n",
    "    \n",
    "    def __init__(self, first, last, pay):\n",
    "        \n",
    "        # Now within the __init__ method we will set all of the instance variables as attributes of that class. \n",
    "        # You don't have to say first = first it's just to keep things simple. \n",
    "        # using the word self is the same as writing emp_1.first = 'Corey'. When the \n",
    "        # WHen the class is called the self automatically attaches itself to the object instance of that class. \n",
    "        self.first = first\n",
    "        self.last = last\n",
    "        self.pay = pay\n",
    "        self.email = first + \".\" + last + \"@company.com.au\"\n",
    "        \n",
    "    # setup methods within the class \n",
    "    \n",
    "    def fullname(self):\n",
    "        return '{} {}'.format(self.first, self.last)"
   ]
  },
  {
   "cell_type": "markdown",
   "metadata": {},
   "source": [
    "                      \n",
    "When calling the class we can leave off the word self because that is created automatically and attaches itself to the object, or emp_1 & emp_2. When passing in the arguements they have to be in order.\n",
    "\n",
    "When we run the program the class with the init function will be run automatically.Nothing will happen until it is called. To call it we create an instance of the class eg emp_1 = Employee('Tom','Fraser',300000) .\n",
    "emp_1 will be passed in as self changing it to emp_1.first....etc.\n",
    "\n",
    "\n",
    "This is how you create an instance of the class passing in the arguements\n"
   ]
  },
  {
   "cell_type": "code",
   "execution_count": null,
   "metadata": {},
   "outputs": [],
   "source": [
    "emp_1 = Employee('Tom','Fraser',300000)\n",
    "emp_2 = Employee('Gordon','Fraser', 100000)"
   ]
  },
  {
   "cell_type": "code",
   "execution_count": 27,
   "metadata": {},
   "outputs": [
    {
     "name": "stdout",
     "output_type": "stream",
     "text": [
      "Tom Fraser\n",
      "Tom Fraser\n",
      "Gordon Fraser\n",
      "Tom Fraser\n"
     ]
    }
   ],
   "source": [
    "# This is how you print the attribute of the class if you haven't setup methods. \n",
    "print(emp_1.first + \" \" + emp_1.last)\n",
    "\n",
    "# This is how you print the method you've set up in the class to do the code above\n",
    "print(emp_1.fullname())\n",
    "print(emp_2.fullname())\n",
    "\n",
    "# Another way of calling and printing the class method is by calling the class then the method and passing in the instance of the class \n",
    "(Employee.fullname(emp_1))\n"
   ]
  },
  {
   "cell_type": "markdown",
   "metadata": {},
   "source": [
    "Class = blueprint for instances of that class."
   ]
  },
  {
   "cell_type": "markdown",
   "metadata": {},
   "source": [
    "emp_1 = Employee()\n",
    "emp_2 = Employee()"
   ]
  },
  {
   "cell_type": "markdown",
   "metadata": {},
   "source": [
    "print(emp_1)\n",
    "print(emp_2)"
   ]
  },
  {
   "cell_type": "markdown",
   "metadata": {},
   "source": [
    "emp_1 & emp_1 are now setup in memory"
   ]
  },
  {
   "cell_type": "markdown",
   "metadata": {},
   "source": [
    "There are two different types of variables. \n",
    "- Instance variables \n",
    "- Class variables\n",
    "\n",
    "For now we are going to focus on Instance variables"
   ]
  },
  {
   "cell_type": "markdown",
   "metadata": {},
   "source": [
    "Now we will write the code above in a much simpler way so we can just add the values at the start of employment."
   ]
  },
  {
   "cell_type": "code",
   "execution_count": null,
   "metadata": {},
   "outputs": [],
   "source": []
  }
 ],
 "metadata": {
  "kernelspec": {
   "display_name": "Python 3",
   "language": "python",
   "name": "python3"
  },
  "language_info": {
   "codemirror_mode": {
    "name": "ipython",
    "version": 3
   },
   "file_extension": ".py",
   "mimetype": "text/x-python",
   "name": "python",
   "nbconvert_exporter": "python",
   "pygments_lexer": "ipython3",
   "version": "3.6.8"
  }
 },
 "nbformat": 4,
 "nbformat_minor": 2
}

